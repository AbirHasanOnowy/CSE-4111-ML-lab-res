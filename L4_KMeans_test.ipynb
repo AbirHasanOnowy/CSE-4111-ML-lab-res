{
 "cells": [
  {
   "cell_type": "code",
   "execution_count": 1,
   "id": "fa332f96",
   "metadata": {},
   "outputs": [],
   "source": [
    "import numpy as np\n",
    "import matplotlib.pyplot as plt"
   ]
  },
  {
   "cell_type": "markdown",
   "id": "f77b9cad",
   "metadata": {},
   "source": [
    "## Dataset"
   ]
  },
  {
   "cell_type": "code",
   "execution_count": 18,
   "id": "f42572e7",
   "metadata": {},
   "outputs": [],
   "source": [
    "x1 = np.random.normal(loc=11, scale=2.0, size=100)\n",
    "y1 = np.random.normal(loc=5, scale=3.0, size=100)\n",
    "\n",
    "x2 = np.random.normal(loc=3, scale=1.5, size=75)\n",
    "y2 = np.random.normal(loc=15, scale=2.0, size=75)"
   ]
  },
  {
   "cell_type": "code",
   "execution_count": 19,
   "id": "1c127156",
   "metadata": {},
   "outputs": [
    {
     "data": {
      "image/png": "[encoded data removed]",
      "text/plain": [
       "<Figure size 640x480 with 1 Axes>"
      ]
     },
     "metadata": {},
     "output_type": "display_data"
    }
   ],
   "source": [
    "plt.scatter(x1, y1, label=\"cluster1\")\n",
    "plt.scatter(x2, y2, label=\"cluster2\")\n",
    "\n",
    "plt.legend()\n",
    "plt.show()"
   ]
  },
  {
   "cell_type": "code",
   "execution_count": 32,
   "id": "ebd06f89",
   "metadata": {},
   "outputs": [],
   "source": [
    "X = np.expand_dims(np.append(x1, x2), axis=1)\n",
    "Y = np.expand_dims(np.append(y1, y2), axis=1)\n",
    "\n",
    "data = np.concatenate((X,Y), axis=1)"
   ]
  },
  {
   "cell_type": "code",
   "execution_count": 34,
   "id": "e2d2b706",
   "metadata": {},
   "outputs": [
    {
     "data": {
      "text/plain": [
       "(175, 1)"
      ]
     },
     "execution_count": 34,
     "metadata": {},
     "output_type": "execute_result"
    }
   ],
   "source": [
    "X.shape"
   ]
  },
  {
   "cell_type": "code",
   "execution_count": 33,
   "id": "250a531b",
   "metadata": {},
   "outputs": [
    {
     "data": {
      "text/plain": [
       "(175, 2)"
      ]
     },
     "execution_count": 33,
     "metadata": {},
     "output_type": "execute_result"
    }
   ],
   "source": [
    "data.shape"
   ]
  },
  {
   "cell_type": "code",
   "execution_count": 35,
   "id": "2f7b0885",
   "metadata": {},
   "outputs": [
    {
     "data": {
      "text/plain": [
       "array([[12.17332104,  5.85218687],\n",
       "       [ 9.96253502,  3.11546584],\n",
       "       [11.46037918, -0.83014306],\n",
       "       [10.65340967,  1.61775874],\n",
       "       [11.2107288 ,  5.40903696]])"
      ]
     },
     "execution_count": 35,
     "metadata": {},
     "output_type": "execute_result"
    }
   ],
   "source": [
    "data[:5]"
   ]
  },
  {
   "cell_type": "markdown",
   "id": "98f20111",
   "metadata": {},
   "source": [
    "## Model"
   ]
  },
  {
   "cell_type": "code",
   "execution_count": 36,
   "id": "bd7dbc79",
   "metadata": {},
   "outputs": [],
   "source": [
    "def eucl_dist(p1, p2):\n",
    "    return np.sum((p1-p2) ** 2)"
   ]
  },
  {
   "cell_type": "code",
   "execution_count": 39,
   "id": "83a608a2",
   "metadata": {},
   "outputs": [],
   "source": [
    "def KMeans(dataPoints, k):\n",
    "    # takes data points returns k points as cluster mid\n",
    "    \n",
    "    \n",
    "    return 0"
   ]
  },
  {
   "cell_type": "code",
   "execution_count": 40,
   "id": "2b07d025",
   "metadata": {},
   "outputs": [
    {
     "data": {
      "text/plain": [
       "0"
      ]
     },
     "execution_count": 40,
     "metadata": {},
     "output_type": "execute_result"
    }
   ],
   "source": [
    "KMeans(data, 2)"
   ]
  },
  {
   "cell_type": "markdown",
   "id": "efc4ca91",
   "metadata": {},
   "source": []
  }
 ],
 "metadata": {
  "kernelspec": {
   "display_name": "Python 3 (ipykernel)",
   "language": "python",
   "name": "python3"
  },
  "language_info": {
   "codemirror_mode": {
    "name": "ipython",
    "version": 3
   },
   "file_extension": ".py",
   "mimetype": "text/x-python",
   "name": "python",
   "nbconvert_exporter": "python",
   "pygments_lexer": "ipython3",
   "version": "3.9.13"
  }
 },
 "nbformat": 4,
 "nbformat_minor": 5
}
